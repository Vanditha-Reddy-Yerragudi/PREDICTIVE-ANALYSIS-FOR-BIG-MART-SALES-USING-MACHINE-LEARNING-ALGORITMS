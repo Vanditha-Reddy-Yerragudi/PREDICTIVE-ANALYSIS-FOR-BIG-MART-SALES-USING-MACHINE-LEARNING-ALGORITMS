{
  "nbformat": 4,
  "nbformat_minor": 0,
  "metadata": {
    "colab": {
      "provenance": []
    },
    "kernelspec": {
      "name": "python3",
      "display_name": "Python 3"
    },
    "language_info": {
      "name": "python"
    }
  },
  "cells": [
    {
      "cell_type": "markdown",
      "source": [
        "# To run these code upload your data at run time First"
      ],
      "metadata": {
        "id": "WEOjBaQBbzeR"
      }
    },
    {
      "cell_type": "code",
      "execution_count": null,
      "metadata": {
        "id": "JMPnwexXfnVU"
      },
      "outputs": [],
      "source": [
        "import os                           #os module is a part of the standard library or stdlib-->it comes with your Python installation\n",
        "import pandas as pd                 # tells Python to bring the pandas data analysis library into your current environment--> used for importing,managing,manipulating,analyzing datasets\n",
        "import numpy as np                  #to perform a wide variety of mathematical operations on numpy arrays\n",
        "import matplotlib.pyplot as plt     # a collection of command style functions that make matplotlib work like MATLAB\n",
        "import seaborn as sns               #open-source Python library built on top of matplotlib-->used for data visualization and exploratory data analysis\n",
        "\n",
        "                                    #sklearn-Scikit-Learn is a free Machine Learning library -->useful tool for data mining and data analysis\n",
        "\n",
        "from sklearn.model_selection import train_test_split    #Split arrays or matrices into random train and test subsets-->we have to mention test_size and random state for data productivity\n",
        "from sklearn.preprocessing import StandardScaler        #helps in feature scaling-->to standardize the range of functionality of the input dataset\n",
        "from sklearn.impute import SimpleImputer                #SimpleImputer class provides basic strategies for imputing missing values using mean,median and mode\n",
        "from sklearn.model_selection import GridSearchCV        # used Hyper Parameter Tuning--> finding the optimal parameter values from a given set of parameters in a grid\n",
        "from sklearn.metrics import confusion_matrix,accuracy_score,precision_score,recall_score,f1_score   #to evaluate machine learning algorithms --> the performance of algorithm is evaluated by using accuracy,precision,recall\n",
        "from sklearn.preprocessing import OneHotEncoder         # used for performing dummification on categorical colums in the dataframe\n",
        "\n",
        "from sklearn.linear_model import LinearRegression,LogisticRegression         #helps to use Linear Regression , Logistic Regression\n",
        "from sklearn.svm import SVC,SVR                                              #hellps to import support vector machine functions like Support Vector Classifier , Support Vector Regressor\n",
        "from sklearn.tree import DecisionTreeClassifier,DecisionTreeRegressor        #helps to use  Decision tree functions like DecisionTreeClassifier , DecisionTreeRegressor\n",
        "from sklearn.ensemble import RandomForestClassifier,RandomForestRegressor    #helps to use  Decision tree functions like RandomForestClassifier , RandomForestTreeRegressor\n",
        "from sklearn.model_selection import GridSearchCV                             #GridSearch CV--> cross validation is used to tune hyper parameters which are present in a given list of values\n",
        "from imblearn.over_sampling import SMOTE"
      ]
    },
    {
      "cell_type": "code",
      "source": [
        "#Importing the datasets\n",
        "df_train = pd.read_csv('/content/Train.csv')\n",
        "df_test = pd.read_csv('/content/Test.csv')"
      ],
      "metadata": {
        "id": "Q4NNip4XfpXA"
      },
      "execution_count": null,
      "outputs": []
    },
    {
      "cell_type": "code",
      "source": [
        "df_train.info()\n",
        "df_test.info()"
      ],
      "metadata": {
        "colab": {
          "base_uri": "https://localhost:8080/"
        },
        "id": "u97OkCHjf2xZ",
        "outputId": "2b41134b-d6bd-4d2d-99f6-0b2bab1b916f"
      },
      "execution_count": null,
      "outputs": [
        {
          "output_type": "stream",
          "name": "stdout",
          "text": [
            "<class 'pandas.core.frame.DataFrame'>\n",
            "RangeIndex: 8523 entries, 0 to 8522\n",
            "Data columns (total 12 columns):\n",
            " #   Column                     Non-Null Count  Dtype  \n",
            "---  ------                     --------------  -----  \n",
            " 0   Item_Identifier            8523 non-null   object \n",
            " 1   Item_Weight                7060 non-null   float64\n",
            " 2   Item_Fat_Content           8523 non-null   object \n",
            " 3   Item_Visibility            8523 non-null   float64\n",
            " 4   Item_Type                  8523 non-null   object \n",
            " 5   Item_MRP                   8523 non-null   float64\n",
            " 6   Outlet_Identifier          8523 non-null   object \n",
            " 7   Outlet_Establishment_Year  8523 non-null   int64  \n",
            " 8   Outlet_Size                6113 non-null   object \n",
            " 9   Outlet_Location_Type       8523 non-null   object \n",
            " 10  Outlet_Type                8523 non-null   object \n",
            " 11  Item_Outlet_Sales          8523 non-null   float64\n",
            "dtypes: float64(4), int64(1), object(7)\n",
            "memory usage: 799.2+ KB\n",
            "<class 'pandas.core.frame.DataFrame'>\n",
            "RangeIndex: 5681 entries, 0 to 5680\n",
            "Data columns (total 11 columns):\n",
            " #   Column                     Non-Null Count  Dtype  \n",
            "---  ------                     --------------  -----  \n",
            " 0   Item_Identifier            5681 non-null   object \n",
            " 1   Item_Weight                4705 non-null   float64\n",
            " 2   Item_Fat_Content           5681 non-null   object \n",
            " 3   Item_Visibility            5681 non-null   float64\n",
            " 4   Item_Type                  5681 non-null   object \n",
            " 5   Item_MRP                   5681 non-null   float64\n",
            " 6   Outlet_Identifier          5681 non-null   object \n",
            " 7   Outlet_Establishment_Year  5681 non-null   int64  \n",
            " 8   Outlet_Size                4075 non-null   object \n",
            " 9   Outlet_Location_Type       5681 non-null   object \n",
            " 10  Outlet_Type                5681 non-null   object \n",
            "dtypes: float64(3), int64(1), object(7)\n",
            "memory usage: 488.3+ KB\n"
          ]
        }
      ]
    },
    {
      "cell_type": "code",
      "source": [
        "df_train=df_train.drop([\"Item_Identifier\",'Outlet_Identifier', 'Outlet_Establishment_Year'],axis=1)\n",
        "df_test=df_test.drop([\"Item_Identifier\",'Outlet_Identifier', 'Outlet_Establishment_Year'],axis=1)"
      ],
      "metadata": {
        "id": "iIfZEHj8gAhs"
      },
      "execution_count": null,
      "outputs": []
    },
    {
      "cell_type": "code",
      "source": [
        "print(df_train.isnull().sum())\n",
        "print(\"---\"*30)\n",
        "print(df_test.isnull().sum())"
      ],
      "metadata": {
        "colab": {
          "base_uri": "https://localhost:8080/"
        },
        "id": "Wwm62qFcgXLk",
        "outputId": "a0e0c574-df07-4538-e013-e4e7767fa2ea"
      },
      "execution_count": null,
      "outputs": [
        {
          "output_type": "stream",
          "name": "stdout",
          "text": [
            "Item_Weight             1463\n",
            "Item_Fat_Content           0\n",
            "Item_Visibility            0\n",
            "Item_Type                  0\n",
            "Item_MRP                   0\n",
            "Outlet_Size             2410\n",
            "Outlet_Location_Type       0\n",
            "Outlet_Type                0\n",
            "Item_Outlet_Sales          0\n",
            "dtype: int64\n",
            "------------------------------------------------------------------------------------------\n",
            "Item_Weight              976\n",
            "Item_Fat_Content           0\n",
            "Item_Visibility            0\n",
            "Item_Type                  0\n",
            "Item_MRP                   0\n",
            "Outlet_Size             1606\n",
            "Outlet_Location_Type       0\n",
            "Outlet_Type                0\n",
            "dtype: int64\n"
          ]
        }
      ]
    },
    {
      "cell_type": "code",
      "source": [
        "df_train[\"Outlet_Type\"].value_counts()"
      ],
      "metadata": {
        "colab": {
          "base_uri": "https://localhost:8080/"
        },
        "id": "Bnr7VDwugj5O",
        "outputId": "6e4555e3-081b-46a1-99be-2dd4873761d5"
      },
      "execution_count": null,
      "outputs": [
        {
          "output_type": "execute_result",
          "data": {
            "text/plain": [
              "Supermarket Type1    5577\n",
              "Grocery Store        1083\n",
              "Supermarket Type3     935\n",
              "Supermarket Type2     928\n",
              "Name: Outlet_Type, dtype: int64"
            ]
          },
          "metadata": {},
          "execution_count": 6
        }
      ]
    },
    {
      "cell_type": "code",
      "source": [
        "def Convert_dtype(DataFrame,columns=None):                                 #converting object datatype in to category datatype\n",
        "  print(\"The datatypes before converting :\\n\",DataFrame.dtypes,'\\n')\n",
        "  print(\"**\"*50)\n",
        "  DataFrame[columns]=DataFrame[columns].astype('category')                 #\"astype()\"--> used to convert the datatype\n",
        "  print(\"The datatypes after converting :\\n\",DataFrame.dtypes,'\\n')\n",
        "  return DataFrame"
      ],
      "metadata": {
        "id": "CFEDLRt2hqSV"
      },
      "execution_count": null,
      "outputs": []
    },
    {
      "cell_type": "code",
      "source": [
        "col=[\"Item_Fat_Content\",\"Item_Type\",\"Outlet_Size\",\"Outlet_Location_Type\",\"Outlet_Type\"]\n",
        "df_train=Convert_dtype(df_train,col)"
      ],
      "metadata": {
        "colab": {
          "base_uri": "https://localhost:8080/"
        },
        "id": "YnpHXp-xhrnv",
        "outputId": "50ddda2c-5f60-4fa5-a90d-952031530d05"
      },
      "execution_count": null,
      "outputs": [
        {
          "output_type": "stream",
          "name": "stdout",
          "text": [
            "The datatypes before converting :\n",
            " Item_Weight             float64\n",
            "Item_Fat_Content         object\n",
            "Item_Visibility         float64\n",
            "Item_Type                object\n",
            "Item_MRP                float64\n",
            "Outlet_Size              object\n",
            "Outlet_Location_Type     object\n",
            "Outlet_Type              object\n",
            "Item_Outlet_Sales       float64\n",
            "dtype: object \n",
            "\n",
            "****************************************************************************************************\n",
            "The datatypes after converting :\n",
            " Item_Weight              float64\n",
            "Item_Fat_Content        category\n",
            "Item_Visibility          float64\n",
            "Item_Type               category\n",
            "Item_MRP                 float64\n",
            "Outlet_Size             category\n",
            "Outlet_Location_Type    category\n",
            "Outlet_Type             category\n",
            "Item_Outlet_Sales        float64\n",
            "dtype: object \n",
            "\n"
          ]
        }
      ]
    },
    {
      "cell_type": "code",
      "source": [
        "def Sep_x_y_df(DataFrame,Target):                     # in this function we are seperating Indepenndent and dependent variables into two dataframes\n",
        "  Y=DataFrame[Target]                                 # taking target variable in to  'Y' Dataframe\n",
        "  X=DataFrame.drop(columns=Target,axis=1)             # taking all the independent variables into 'X' dataframe excluding target column\n",
        "  print(\"The Independent Varaible DataFrame is :\\n\",X,'\\n')\n",
        "  print(\"**\"*50)\n",
        "  print(\"The Dependent Varaible DataFrame is :\\n\",Y,'\\n')\n",
        "  return X,Y"
      ],
      "metadata": {
        "id": "axzdUplygw79"
      },
      "execution_count": null,
      "outputs": []
    },
    {
      "cell_type": "code",
      "source": [
        "X,Y=Sep_x_y_df(df_train,'Item_Outlet_Sales')"
      ],
      "metadata": {
        "colab": {
          "base_uri": "https://localhost:8080/"
        },
        "id": "TyHpM2-Og6kE",
        "outputId": "55dff66b-18ab-4b97-e084-022c030b87b4"
      },
      "execution_count": null,
      "outputs": [
        {
          "output_type": "stream",
          "name": "stdout",
          "text": [
            "The Independent Varaible DataFrame is :\n",
            "       Item_Weight Item_Fat_Content  Item_Visibility              Item_Type  \\\n",
            "0           9.300          Low Fat         0.016047                  Dairy   \n",
            "1           5.920          Regular         0.019278            Soft Drinks   \n",
            "2          17.500          Low Fat         0.016760                   Meat   \n",
            "3          19.200          Regular         0.000000  Fruits and Vegetables   \n",
            "4           8.930          Low Fat         0.000000              Household   \n",
            "...           ...              ...              ...                    ...   \n",
            "8518        6.865          Low Fat         0.056783            Snack Foods   \n",
            "8519        8.380          Regular         0.046982           Baking Goods   \n",
            "8520       10.600          Low Fat         0.035186     Health and Hygiene   \n",
            "8521        7.210          Regular         0.145221            Snack Foods   \n",
            "8522       14.800          Low Fat         0.044878            Soft Drinks   \n",
            "\n",
            "      Item_MRP Outlet_Size Outlet_Location_Type        Outlet_Type  \n",
            "0     249.8092      Medium               Tier 1  Supermarket Type1  \n",
            "1      48.2692      Medium               Tier 3  Supermarket Type2  \n",
            "2     141.6180      Medium               Tier 1  Supermarket Type1  \n",
            "3     182.0950         NaN               Tier 3      Grocery Store  \n",
            "4      53.8614        High               Tier 3  Supermarket Type1  \n",
            "...        ...         ...                  ...                ...  \n",
            "8518  214.5218        High               Tier 3  Supermarket Type1  \n",
            "8519  108.1570         NaN               Tier 2  Supermarket Type1  \n",
            "8520   85.1224       Small               Tier 2  Supermarket Type1  \n",
            "8521  103.1332      Medium               Tier 3  Supermarket Type2  \n",
            "8522   75.4670       Small               Tier 1  Supermarket Type1  \n",
            "\n",
            "[8523 rows x 8 columns] \n",
            "\n",
            "****************************************************************************************************\n",
            "The Dependent Varaible DataFrame is :\n",
            " 0       3735.1380\n",
            "1        443.4228\n",
            "2       2097.2700\n",
            "3        732.3800\n",
            "4        994.7052\n",
            "          ...    \n",
            "8518    2778.3834\n",
            "8519     549.2850\n",
            "8520    1193.1136\n",
            "8521    1845.5976\n",
            "8522     765.6700\n",
            "Name: Item_Outlet_Sales, Length: 8523, dtype: float64 \n",
            "\n"
          ]
        }
      ]
    },
    {
      "cell_type": "code",
      "source": [
        "def split_train_test(X,Y):                                                                           # splitting given training data into train and test randomly\n",
        "  X_train,X_test,Y_train,Y_test=train_test_split(X,Y,test_size=0.3,stratify=Y,random_state=123)      #train_test_split is the function used for splitting DataFrame into train and test in 70:30 ratio\n",
        "  print(\"The shape of X_train is :\",X_train.shape,'\\n')                                              # stratify=y means we are equalizing/balancing the values in Traget columns\n",
        "  print(\"The shape of Y_train is :\",Y_train.shape,'\\n')\n",
        "  print(\"The shape of X_test is :\",X_test.shape,'\\n')\n",
        "  print(\"The shape of Y_test is :\",Y_test.shape,'\\n')\n",
        "  return X_train,X_test,Y_train,Y_test"
      ],
      "metadata": {
        "id": "iuDxBk2rhGCK"
      },
      "execution_count": null,
      "outputs": []
    },
    {
      "cell_type": "code",
      "source": [
        "  X_train,X_test,Y_train,Y_test=train_test_split(X,Y,test_size=0.3,random_state=123)      #train_test_split is the function used for splitting DataFrame into train and test in 70:30 ratio"
      ],
      "metadata": {
        "id": "dwzZpzAlhJ2P"
      },
      "execution_count": null,
      "outputs": []
    },
    {
      "cell_type": "code",
      "source": [
        "def num_cat_df(DataFrame):                                           # we are dividng X_train and X_test Data into Categorical and Numerical dataframes\n",
        "  num_df = DataFrame.select_dtypes(include=['int','float'])          # here wee are selecting the columns which are in int and float datatyoe then wee store in DataFrame\n",
        "  cat_df = DataFrame.select_dtypes(include=['category'])             # herre we are storing the columns which are categorical  then store in DataFrame\n",
        "  print(\"The Numerical Variables DataFrame is :\\n\",num_df,'\\n')\n",
        "  print(\"**\"*50)\n",
        "  print(\"The Categorical Variables DataFrame is :\\n\",cat_df,'\\n')\n",
        "  return num_df, cat_df"
      ],
      "metadata": {
        "id": "56J4kjhOhiyu"
      },
      "execution_count": null,
      "outputs": []
    },
    {
      "cell_type": "code",
      "source": [
        "X_train_num,X_train_cat=num_cat_df(X_train)"
      ],
      "metadata": {
        "colab": {
          "base_uri": "https://localhost:8080/"
        },
        "id": "tzqGQlDsiDaQ",
        "outputId": "1951eed8-a5ad-4f8e-eb7e-9146b74bc0fb"
      },
      "execution_count": null,
      "outputs": [
        {
          "output_type": "stream",
          "name": "stdout",
          "text": [
            "The Numerical Variables DataFrame is :\n",
            "       Item_Weight  Item_Visibility  Item_MRP\n",
            "1544        5.465         0.048487  131.2626\n",
            "7932          NaN         0.028383  109.4596\n",
            "4654        7.315         0.015302  154.4340\n",
            "4770       16.350         0.058034  124.8020\n",
            "6283       12.150         0.042552  123.5046\n",
            "...           ...              ...       ...\n",
            "7382       18.600         0.077169  160.6236\n",
            "7763          NaN         0.068153   36.0190\n",
            "5218        5.920         0.019184   50.3692\n",
            "1346       15.600         0.000000  111.8544\n",
            "3582       13.300         0.071744   59.7536\n",
            "\n",
            "[5966 rows x 3 columns] \n",
            "\n",
            "****************************************************************************************************\n",
            "The Categorical Variables DataFrame is :\n",
            "      Item_Fat_Content              Item_Type Outlet_Size Outlet_Location_Type  \\\n",
            "1544          Regular           Baking Goods        High               Tier 3   \n",
            "7932          Low Fat     Health and Hygiene       Small               Tier 1   \n",
            "4654          Low Fat            Snack Foods       Small               Tier 1   \n",
            "4770          Low Fat              Household         NaN               Tier 3   \n",
            "6283          Regular                 Canned         NaN               Tier 2   \n",
            "...               ...                    ...         ...                  ...   \n",
            "7382          Low Fat            Snack Foods      Medium               Tier 3   \n",
            "7763          Low Fat            Soft Drinks       Small               Tier 1   \n",
            "5218          Regular            Soft Drinks        High               Tier 3   \n",
            "1346          Low Fat           Baking Goods      Medium               Tier 3   \n",
            "3582              reg  Fruits and Vegetables      Medium               Tier 3   \n",
            "\n",
            "            Outlet_Type  \n",
            "1544  Supermarket Type1  \n",
            "7932      Grocery Store  \n",
            "4654  Supermarket Type1  \n",
            "4770      Grocery Store  \n",
            "6283  Supermarket Type1  \n",
            "...                 ...  \n",
            "7382  Supermarket Type2  \n",
            "7763      Grocery Store  \n",
            "5218  Supermarket Type1  \n",
            "1346  Supermarket Type2  \n",
            "3582  Supermarket Type2  \n",
            "\n",
            "[5966 rows x 5 columns] \n",
            "\n"
          ]
        }
      ]
    },
    {
      "cell_type": "code",
      "source": [
        "X_test_num,X_test_cat=num_cat_df(X_test)"
      ],
      "metadata": {
        "colab": {
          "base_uri": "https://localhost:8080/"
        },
        "id": "-J9TV16miGpz",
        "outputId": "243642d8-e7d8-40c9-9c46-af4234629c99"
      },
      "execution_count": null,
      "outputs": [
        {
          "output_type": "stream",
          "name": "stdout",
          "text": [
            "The Numerical Variables DataFrame is :\n",
            "       Item_Weight  Item_Visibility  Item_MRP\n",
            "4532        15.85         0.007145   41.0480\n",
            "186           NaN         0.094154  165.7526\n",
            "7557        17.85         0.037886  190.4188\n",
            "6308          NaN         0.000000  230.0668\n",
            "7297          NaN         0.170001  155.9630\n",
            "...           ...              ...       ...\n",
            "1868        11.60         0.017745  177.9686\n",
            "6407        19.10         0.045308   42.5138\n",
            "7751        17.25         0.047459   95.8068\n",
            "211         13.80         0.058091  245.1802\n",
            "1576        13.65         0.012752   55.5588\n",
            "\n",
            "[2557 rows x 3 columns] \n",
            "\n",
            "****************************************************************************************************\n",
            "The Categorical Variables DataFrame is :\n",
            "      Item_Fat_Content              Item_Type Outlet_Size Outlet_Location_Type  \\\n",
            "4532          Regular            Snack Foods       Small               Tier 2   \n",
            "186           Regular  Fruits and Vegetables       Small               Tier 1   \n",
            "7557          Low Fat            Soft Drinks      Medium               Tier 1   \n",
            "6308          Regular           Frozen Foods       Small               Tier 1   \n",
            "7297          Regular                  Dairy      Medium               Tier 3   \n",
            "...               ...                    ...         ...                  ...   \n",
            "1868          Low Fat                 Canned       Small               Tier 1   \n",
            "6407          Low Fat                  Dairy       Small               Tier 1   \n",
            "7751              reg            Snack Foods      Medium               Tier 3   \n",
            "211           Low Fat                  Dairy       Small               Tier 2   \n",
            "1576              reg            Snack Foods       Small               Tier 1   \n",
            "\n",
            "            Outlet_Type  \n",
            "4532  Supermarket Type1  \n",
            "186       Grocery Store  \n",
            "7557  Supermarket Type1  \n",
            "6308      Grocery Store  \n",
            "7297  Supermarket Type3  \n",
            "...                 ...  \n",
            "1868  Supermarket Type1  \n",
            "6407  Supermarket Type1  \n",
            "7751  Supermarket Type2  \n",
            "211   Supermarket Type1  \n",
            "1576  Supermarket Type1  \n",
            "\n",
            "[2557 rows x 5 columns] \n",
            "\n"
          ]
        }
      ]
    },
    {
      "cell_type": "code",
      "source": [
        "def impute_na(X_train,X_test,Stratergy):                                          # imputation--> meand filling  NaN values or null values by using Mean , median , mode\n",
        "  imputer = SimpleImputer(strategy=Stratergy)                                     #SimpleImputer is the method to used find the meean,median,mode values from records which are not having NaN values and replace the null values with that value\n",
        "  imputer = imputer.fit(X_train)                                                  # In this step imputer finds the Stratergy(mean,median,mode) value for the each column from the traning data set\n",
        "  X_train= pd.DataFrame(imputer.transform(X_train),columns=X_train.columns)       # IN this  transform(data) method is used to perform or filling null values with strategy calculated using the fit() method.\n",
        "  X_test= pd.DataFrame(imputer.transform(X_test),columns=X_test.columns)          # fit() can be only done on train data butt transform() can be done on both train and test data\n",
        "  print(\"After Imputing X_train_num is:\\n\",X_train,'\\n')\n",
        "  print(\"**\"*50)\n",
        "  print(\"After Imputing X_test_num is:\\n\",X_test,'\\n')\n",
        "  return X_train,X_test,imputer"
      ],
      "metadata": {
        "id": "MT5S0RpriJ_H"
      },
      "execution_count": null,
      "outputs": []
    },
    {
      "cell_type": "code",
      "source": [
        "X_train_num,X_test_num,num_imputer=impute_na(X_train_num,X_test_num,'median')"
      ],
      "metadata": {
        "colab": {
          "base_uri": "https://localhost:8080/"
        },
        "id": "TSifWGOEiM05",
        "outputId": "b58bffe9-5c56-4506-b665-1945ce8eaa67"
      },
      "execution_count": null,
      "outputs": [
        {
          "output_type": "stream",
          "name": "stdout",
          "text": [
            "After Imputing X_train_num is:\n",
            "       Item_Weight  Item_Visibility  Item_MRP\n",
            "0           5.465         0.048487  131.2626\n",
            "1          12.600         0.028383  109.4596\n",
            "2           7.315         0.015302  154.4340\n",
            "3          16.350         0.058034  124.8020\n",
            "4          12.150         0.042552  123.5046\n",
            "...           ...              ...       ...\n",
            "5961       18.600         0.077169  160.6236\n",
            "5962       12.600         0.068153   36.0190\n",
            "5963        5.920         0.019184   50.3692\n",
            "5964       15.600         0.000000  111.8544\n",
            "5965       13.300         0.071744   59.7536\n",
            "\n",
            "[5966 rows x 3 columns] \n",
            "\n",
            "****************************************************************************************************\n",
            "After Imputing X_test_num is:\n",
            "       Item_Weight  Item_Visibility  Item_MRP\n",
            "0           15.85         0.007145   41.0480\n",
            "1           12.60         0.094154  165.7526\n",
            "2           17.85         0.037886  190.4188\n",
            "3           12.60         0.000000  230.0668\n",
            "4           12.60         0.170001  155.9630\n",
            "...           ...              ...       ...\n",
            "2552        11.60         0.017745  177.9686\n",
            "2553        19.10         0.045308   42.5138\n",
            "2554        17.25         0.047459   95.8068\n",
            "2555        13.80         0.058091  245.1802\n",
            "2556        13.65         0.012752   55.5588\n",
            "\n",
            "[2557 rows x 3 columns] \n",
            "\n"
          ]
        }
      ]
    },
    {
      "cell_type": "code",
      "source": [
        "import pickle\n",
        "with open('num_impute_pickle.pkl', 'wb') as file:\n",
        "  pickle.dump(num_imputer, file)"
      ],
      "metadata": {
        "id": "cFHmt-DGmDPL"
      },
      "execution_count": null,
      "outputs": []
    },
    {
      "cell_type": "code",
      "source": [
        "X_train_cat,X_test_cat,cat_imputer=impute_na(X_train_cat,X_test_cat,'most_frequent')"
      ],
      "metadata": {
        "colab": {
          "base_uri": "https://localhost:8080/"
        },
        "id": "1z13AFkViPSa",
        "outputId": "965f2f86-0d2c-424d-9c2a-93bc7605bfdc"
      },
      "execution_count": null,
      "outputs": [
        {
          "output_type": "stream",
          "name": "stdout",
          "text": [
            "After Imputing X_train_num is:\n",
            "      Item_Fat_Content              Item_Type Outlet_Size Outlet_Location_Type  \\\n",
            "0             Regular           Baking Goods        High               Tier 3   \n",
            "1             Low Fat     Health and Hygiene       Small               Tier 1   \n",
            "2             Low Fat            Snack Foods       Small               Tier 1   \n",
            "3             Low Fat              Household      Medium               Tier 3   \n",
            "4             Regular                 Canned      Medium               Tier 2   \n",
            "...               ...                    ...         ...                  ...   \n",
            "5961          Low Fat            Snack Foods      Medium               Tier 3   \n",
            "5962          Low Fat            Soft Drinks       Small               Tier 1   \n",
            "5963          Regular            Soft Drinks        High               Tier 3   \n",
            "5964          Low Fat           Baking Goods      Medium               Tier 3   \n",
            "5965              reg  Fruits and Vegetables      Medium               Tier 3   \n",
            "\n",
            "            Outlet_Type  \n",
            "0     Supermarket Type1  \n",
            "1         Grocery Store  \n",
            "2     Supermarket Type1  \n",
            "3         Grocery Store  \n",
            "4     Supermarket Type1  \n",
            "...                 ...  \n",
            "5961  Supermarket Type2  \n",
            "5962      Grocery Store  \n",
            "5963  Supermarket Type1  \n",
            "5964  Supermarket Type2  \n",
            "5965  Supermarket Type2  \n",
            "\n",
            "[5966 rows x 5 columns] \n",
            "\n",
            "****************************************************************************************************\n",
            "After Imputing X_test_num is:\n",
            "      Item_Fat_Content              Item_Type Outlet_Size Outlet_Location_Type  \\\n",
            "0             Regular            Snack Foods       Small               Tier 2   \n",
            "1             Regular  Fruits and Vegetables       Small               Tier 1   \n",
            "2             Low Fat            Soft Drinks      Medium               Tier 1   \n",
            "3             Regular           Frozen Foods       Small               Tier 1   \n",
            "4             Regular                  Dairy      Medium               Tier 3   \n",
            "...               ...                    ...         ...                  ...   \n",
            "2552          Low Fat                 Canned       Small               Tier 1   \n",
            "2553          Low Fat                  Dairy       Small               Tier 1   \n",
            "2554              reg            Snack Foods      Medium               Tier 3   \n",
            "2555          Low Fat                  Dairy       Small               Tier 2   \n",
            "2556              reg            Snack Foods       Small               Tier 1   \n",
            "\n",
            "            Outlet_Type  \n",
            "0     Supermarket Type1  \n",
            "1         Grocery Store  \n",
            "2     Supermarket Type1  \n",
            "3         Grocery Store  \n",
            "4     Supermarket Type3  \n",
            "...                 ...  \n",
            "2552  Supermarket Type1  \n",
            "2553  Supermarket Type1  \n",
            "2554  Supermarket Type2  \n",
            "2555  Supermarket Type1  \n",
            "2556  Supermarket Type1  \n",
            "\n",
            "[2557 rows x 5 columns] \n",
            "\n"
          ]
        }
      ]
    },
    {
      "cell_type": "code",
      "source": [
        "import pickle\n",
        "with open('cat_impute_pickle.pkl', 'wb') as file:\n",
        "  pickle.dump(cat_imputer, file)"
      ],
      "metadata": {
        "id": "1mZ-Kn3SmPoj"
      },
      "execution_count": null,
      "outputs": []
    },
    {
      "cell_type": "code",
      "source": [
        "def std_col(X_train_num,X_test_num):                                                    # in this function we are doing Standardization for Scaling the data and convert columns into unit less on numerical columns\n",
        "  scaler = StandardScaler()                                                             # StandardScaler() is the method using for Standardizing data i.e., calculating Z-score\n",
        "  scaler=scaler.fit(X_train_num)                                                        # in fit() it calculates overall mean , SD values\n",
        "  X_train_num=pd.DataFrame(scaler.transform(X_train_num),columns=X_train_num.columns)   # transform(data) method is used to perform scaling using mean and std dev calculated using the . fit() method.\n",
        "  X_test_num=pd.DataFrame(scaler.transform(X_test_num),columns=X_test_num.columns)\n",
        "  print(\"After Standardizing X_train_num is:\\n\",X_train_num,'\\n')\n",
        "  print(\"**\"*50)\n",
        "  print(\"After Standardizing X_test_num is:\\n\",X_test_num,'\\n')\n",
        "  return X_train_num,X_test_num,scaler"
      ],
      "metadata": {
        "id": "bcAFOxBGiU3x"
      },
      "execution_count": null,
      "outputs": []
    },
    {
      "cell_type": "code",
      "source": [
        "X_train_num,X_test_num,scaler=std_col(X_train_num,X_test_num)"
      ],
      "metadata": {
        "colab": {
          "base_uri": "https://localhost:8080/"
        },
        "id": "4rn-dFfyiZVR",
        "outputId": "f7c27401-a9d6-4733-fd84-5383c1b909d9"
      },
      "execution_count": null,
      "outputs": [
        {
          "output_type": "stream",
          "name": "stdout",
          "text": [
            "After Standardizing X_train_num is:\n",
            "       Item_Weight  Item_Visibility  Item_MRP\n",
            "0       -1.738429        -0.338430 -0.146944\n",
            "1       -0.049738        -0.727827 -0.496910\n",
            "2       -1.300576        -0.981195  0.224986\n",
            "3        0.837801        -0.153502 -0.250645\n",
            "4       -0.156243        -0.453374 -0.271470\n",
            "...           ...              ...       ...\n",
            "5961     1.370324         0.217114  0.324337\n",
            "5962    -0.049738         0.042489 -1.675725\n",
            "5963    -1.630741        -0.906000 -1.445386\n",
            "5964     0.660293        -1.277578 -0.458471\n",
            "5965     0.115936         0.112035 -1.294754\n",
            "\n",
            "[5966 rows x 3 columns] \n",
            "\n",
            "****************************************************************************************************\n",
            "After Standardizing X_test_num is:\n",
            "       Item_Weight  Item_Visibility  Item_MRP\n",
            "0        0.719462        -1.139185 -1.595003\n",
            "1       -0.049738         0.546100  0.406664\n",
            "2        1.192816        -0.543765  0.802588\n",
            "3       -0.049738        -1.277578  1.438988\n",
            "4       -0.049738         2.015193  0.249528\n",
            "...           ...              ...       ...\n",
            "2552    -0.286415        -0.933873  0.602746\n",
            "2553     1.488662        -0.399998 -1.571475\n",
            "2554     1.050810        -0.358343 -0.716055\n",
            "2555     0.234274        -0.152396  1.681577\n",
            "2556     0.198773        -1.030589 -1.362086\n",
            "\n",
            "[2557 rows x 3 columns] \n",
            "\n"
          ]
        }
      ]
    },
    {
      "cell_type": "code",
      "source": [
        "import pickle\n",
        "with open('std_pickle.pkl', 'wb') as file:\n",
        "  pickle.dump(scaler, file)"
      ],
      "metadata": {
        "id": "IBImBAsml6wA"
      },
      "execution_count": null,
      "outputs": []
    },
    {
      "cell_type": "code",
      "source": [
        "from sklearn.preprocessing import OneHotEncoder                                   # In this function we are doing onehotencoding for dummification on categorical columns\n",
        "def get_dummies1(df,cols):\n",
        "  enc = OneHotEncoder(handle_unknown='ignore',drop='first')                       # handle_unknown='ignore' means if any new class comes after fitting the data i.e., in test dataset it will just ignore and perform dummifiaction\n",
        "  enc = enc.fit(df[cols])                                                         # fitting onehotencode to DataFrame categorical columns\n",
        "  enc_df=pd.DataFrame(enc.transform(df).toarray())                                # transforming onehotencoder i.e., perform dummification on categorical columns\n",
        "  enc_df.columns = enc.get_feature_names_out(input_features=df.columns)           # get_feature_names_out --> is used to give the names to all columns as like in Previous DataFrame\n",
        "  print('After Performin Dummification on Categorical Columns:\\n',enc_df,'\\n')\n",
        "  return enc_df,enc"
      ],
      "metadata": {
        "id": "O9dmnmRpicXG"
      },
      "execution_count": null,
      "outputs": []
    },
    {
      "cell_type": "code",
      "source": [
        "X_train_cat,enc=get_dummies1(X_train_cat,X_train_cat.columns)"
      ],
      "metadata": {
        "colab": {
          "base_uri": "https://localhost:8080/"
        },
        "id": "ESH-Qd25igjD",
        "outputId": "335fc3db-5597-4759-c2a8-4e1f4cd88132"
      },
      "execution_count": null,
      "outputs": [
        {
          "output_type": "stream",
          "name": "stdout",
          "text": [
            "After Performin Dummification on Categorical Columns:\n",
            "       Item_Fat_Content_Low Fat  Item_Fat_Content_Regular  \\\n",
            "0                          0.0                       1.0   \n",
            "1                          1.0                       0.0   \n",
            "2                          1.0                       0.0   \n",
            "3                          1.0                       0.0   \n",
            "4                          0.0                       1.0   \n",
            "...                        ...                       ...   \n",
            "5961                       1.0                       0.0   \n",
            "5962                       1.0                       0.0   \n",
            "5963                       0.0                       1.0   \n",
            "5964                       1.0                       0.0   \n",
            "5965                       0.0                       0.0   \n",
            "\n",
            "      Item_Fat_Content_low fat  Item_Fat_Content_reg  Item_Type_Breads  \\\n",
            "0                          0.0                   0.0               0.0   \n",
            "1                          0.0                   0.0               0.0   \n",
            "2                          0.0                   0.0               0.0   \n",
            "3                          0.0                   0.0               0.0   \n",
            "4                          0.0                   0.0               0.0   \n",
            "...                        ...                   ...               ...   \n",
            "5961                       0.0                   0.0               0.0   \n",
            "5962                       0.0                   0.0               0.0   \n",
            "5963                       0.0                   0.0               0.0   \n",
            "5964                       0.0                   0.0               0.0   \n",
            "5965                       0.0                   1.0               0.0   \n",
            "\n",
            "      Item_Type_Breakfast  Item_Type_Canned  Item_Type_Dairy  \\\n",
            "0                     0.0               0.0              0.0   \n",
            "1                     0.0               0.0              0.0   \n",
            "2                     0.0               0.0              0.0   \n",
            "3                     0.0               0.0              0.0   \n",
            "4                     0.0               1.0              0.0   \n",
            "...                   ...               ...              ...   \n",
            "5961                  0.0               0.0              0.0   \n",
            "5962                  0.0               0.0              0.0   \n",
            "5963                  0.0               0.0              0.0   \n",
            "5964                  0.0               0.0              0.0   \n",
            "5965                  0.0               0.0              0.0   \n",
            "\n",
            "      Item_Type_Frozen Foods  Item_Type_Fruits and Vegetables  ...  \\\n",
            "0                        0.0                              0.0  ...   \n",
            "1                        0.0                              0.0  ...   \n",
            "2                        0.0                              0.0  ...   \n",
            "3                        0.0                              0.0  ...   \n",
            "4                        0.0                              0.0  ...   \n",
            "...                      ...                              ...  ...   \n",
            "5961                     0.0                              0.0  ...   \n",
            "5962                     0.0                              0.0  ...   \n",
            "5963                     0.0                              0.0  ...   \n",
            "5964                     0.0                              0.0  ...   \n",
            "5965                     0.0                              1.0  ...   \n",
            "\n",
            "      Item_Type_Snack Foods  Item_Type_Soft Drinks  Item_Type_Starchy Foods  \\\n",
            "0                       0.0                    0.0                      0.0   \n",
            "1                       0.0                    0.0                      0.0   \n",
            "2                       1.0                    0.0                      0.0   \n",
            "3                       0.0                    0.0                      0.0   \n",
            "4                       0.0                    0.0                      0.0   \n",
            "...                     ...                    ...                      ...   \n",
            "5961                    1.0                    0.0                      0.0   \n",
            "5962                    0.0                    1.0                      0.0   \n",
            "5963                    0.0                    1.0                      0.0   \n",
            "5964                    0.0                    0.0                      0.0   \n",
            "5965                    0.0                    0.0                      0.0   \n",
            "\n",
            "      Outlet_Size_Medium  Outlet_Size_Small  Outlet_Location_Type_Tier 2  \\\n",
            "0                    0.0                0.0                          0.0   \n",
            "1                    0.0                1.0                          0.0   \n",
            "2                    0.0                1.0                          0.0   \n",
            "3                    1.0                0.0                          0.0   \n",
            "4                    1.0                0.0                          1.0   \n",
            "...                  ...                ...                          ...   \n",
            "5961                 1.0                0.0                          0.0   \n",
            "5962                 0.0                1.0                          0.0   \n",
            "5963                 0.0                0.0                          0.0   \n",
            "5964                 1.0                0.0                          0.0   \n",
            "5965                 1.0                0.0                          0.0   \n",
            "\n",
            "      Outlet_Location_Type_Tier 3  Outlet_Type_Supermarket Type1  \\\n",
            "0                             1.0                            1.0   \n",
            "1                             0.0                            0.0   \n",
            "2                             0.0                            1.0   \n",
            "3                             1.0                            0.0   \n",
            "4                             0.0                            1.0   \n",
            "...                           ...                            ...   \n",
            "5961                          1.0                            0.0   \n",
            "5962                          0.0                            0.0   \n",
            "5963                          1.0                            1.0   \n",
            "5964                          1.0                            0.0   \n",
            "5965                          1.0                            0.0   \n",
            "\n",
            "      Outlet_Type_Supermarket Type2  Outlet_Type_Supermarket Type3  \n",
            "0                               0.0                            0.0  \n",
            "1                               0.0                            0.0  \n",
            "2                               0.0                            0.0  \n",
            "3                               0.0                            0.0  \n",
            "4                               0.0                            0.0  \n",
            "...                             ...                            ...  \n",
            "5961                            1.0                            0.0  \n",
            "5962                            0.0                            0.0  \n",
            "5963                            0.0                            0.0  \n",
            "5964                            1.0                            0.0  \n",
            "5965                            1.0                            0.0  \n",
            "\n",
            "[5966 rows x 26 columns] \n",
            "\n"
          ]
        }
      ]
    },
    {
      "cell_type": "code",
      "source": [
        "import pickle\n",
        "with open('encode_pickle.pkl', 'wb') as file:\n",
        "  pickle.dump(enc, file)"
      ],
      "metadata": {
        "id": "FbNHyw2hlyEd"
      },
      "execution_count": null,
      "outputs": []
    },
    {
      "cell_type": "code",
      "source": [
        "X_test_dum = pd.DataFrame(enc.transform(X_test_cat).toarray())\n",
        "X_test_dum.columns = enc.get_feature_names_out(input_features=X_test_cat.columns)"
      ],
      "metadata": {
        "id": "Mc8qpCzBipvH"
      },
      "execution_count": null,
      "outputs": []
    },
    {
      "cell_type": "code",
      "source": [
        "def combine_num_df_cat_df(num_df, cat_df):                           # in this method we are combining bboth numerical  and categorical dataframes into one\n",
        "    df= pd.concat([num_df,cat_df],axis=1,join='inner')               # for combining we are using pd.concat()--> with hyperparameter join='inner' i.e., combine two dfs which have same records\n",
        "    print(\"After combining the shape of df is :\\n\",df.shape,'\\n')\n",
        "    print(\"After combining numerical and categorical columns :\\n\",df,'\\n')\n",
        "    return df"
      ],
      "metadata": {
        "id": "Dtdw0rQlivbq"
      },
      "execution_count": null,
      "outputs": []
    },
    {
      "cell_type": "code",
      "source": [
        "X_train=combine_num_df_cat_df(X_train_num,X_train_cat)"
      ],
      "metadata": {
        "colab": {
          "base_uri": "https://localhost:8080/"
        },
        "id": "lzHrJlYfiyE-",
        "outputId": "5cb91600-86de-40a5-8fa8-d140bb98d95a"
      },
      "execution_count": null,
      "outputs": [
        {
          "output_type": "stream",
          "name": "stdout",
          "text": [
            "After combining the shape of df is :\n",
            " (5966, 29) \n",
            "\n",
            "After combining numerical and categorical columns :\n",
            "       Item_Weight  Item_Visibility  Item_MRP  Item_Fat_Content_Low Fat  \\\n",
            "0       -1.738429        -0.338430 -0.146944                       0.0   \n",
            "1       -0.049738        -0.727827 -0.496910                       1.0   \n",
            "2       -1.300576        -0.981195  0.224986                       1.0   \n",
            "3        0.837801        -0.153502 -0.250645                       1.0   \n",
            "4       -0.156243        -0.453374 -0.271470                       0.0   \n",
            "...           ...              ...       ...                       ...   \n",
            "5961     1.370324         0.217114  0.324337                       1.0   \n",
            "5962    -0.049738         0.042489 -1.675725                       1.0   \n",
            "5963    -1.630741        -0.906000 -1.445386                       0.0   \n",
            "5964     0.660293        -1.277578 -0.458471                       1.0   \n",
            "5965     0.115936         0.112035 -1.294754                       0.0   \n",
            "\n",
            "      Item_Fat_Content_Regular  Item_Fat_Content_low fat  \\\n",
            "0                          1.0                       0.0   \n",
            "1                          0.0                       0.0   \n",
            "2                          0.0                       0.0   \n",
            "3                          0.0                       0.0   \n",
            "4                          1.0                       0.0   \n",
            "...                        ...                       ...   \n",
            "5961                       0.0                       0.0   \n",
            "5962                       0.0                       0.0   \n",
            "5963                       1.0                       0.0   \n",
            "5964                       0.0                       0.0   \n",
            "5965                       0.0                       0.0   \n",
            "\n",
            "      Item_Fat_Content_reg  Item_Type_Breads  Item_Type_Breakfast  \\\n",
            "0                      0.0               0.0                  0.0   \n",
            "1                      0.0               0.0                  0.0   \n",
            "2                      0.0               0.0                  0.0   \n",
            "3                      0.0               0.0                  0.0   \n",
            "4                      0.0               0.0                  0.0   \n",
            "...                    ...               ...                  ...   \n",
            "5961                   0.0               0.0                  0.0   \n",
            "5962                   0.0               0.0                  0.0   \n",
            "5963                   0.0               0.0                  0.0   \n",
            "5964                   0.0               0.0                  0.0   \n",
            "5965                   1.0               0.0                  0.0   \n",
            "\n",
            "      Item_Type_Canned  ...  Item_Type_Snack Foods  Item_Type_Soft Drinks  \\\n",
            "0                  0.0  ...                    0.0                    0.0   \n",
            "1                  0.0  ...                    0.0                    0.0   \n",
            "2                  0.0  ...                    1.0                    0.0   \n",
            "3                  0.0  ...                    0.0                    0.0   \n",
            "4                  1.0  ...                    0.0                    0.0   \n",
            "...                ...  ...                    ...                    ...   \n",
            "5961               0.0  ...                    1.0                    0.0   \n",
            "5962               0.0  ...                    0.0                    1.0   \n",
            "5963               0.0  ...                    0.0                    1.0   \n",
            "5964               0.0  ...                    0.0                    0.0   \n",
            "5965               0.0  ...                    0.0                    0.0   \n",
            "\n",
            "      Item_Type_Starchy Foods  Outlet_Size_Medium  Outlet_Size_Small  \\\n",
            "0                         0.0                 0.0                0.0   \n",
            "1                         0.0                 0.0                1.0   \n",
            "2                         0.0                 0.0                1.0   \n",
            "3                         0.0                 1.0                0.0   \n",
            "4                         0.0                 1.0                0.0   \n",
            "...                       ...                 ...                ...   \n",
            "5961                      0.0                 1.0                0.0   \n",
            "5962                      0.0                 0.0                1.0   \n",
            "5963                      0.0                 0.0                0.0   \n",
            "5964                      0.0                 1.0                0.0   \n",
            "5965                      0.0                 1.0                0.0   \n",
            "\n",
            "      Outlet_Location_Type_Tier 2  Outlet_Location_Type_Tier 3  \\\n",
            "0                             0.0                          1.0   \n",
            "1                             0.0                          0.0   \n",
            "2                             0.0                          0.0   \n",
            "3                             0.0                          1.0   \n",
            "4                             1.0                          0.0   \n",
            "...                           ...                          ...   \n",
            "5961                          0.0                          1.0   \n",
            "5962                          0.0                          0.0   \n",
            "5963                          0.0                          1.0   \n",
            "5964                          0.0                          1.0   \n",
            "5965                          0.0                          1.0   \n",
            "\n",
            "      Outlet_Type_Supermarket Type1  Outlet_Type_Supermarket Type2  \\\n",
            "0                               1.0                            0.0   \n",
            "1                               0.0                            0.0   \n",
            "2                               1.0                            0.0   \n",
            "3                               0.0                            0.0   \n",
            "4                               1.0                            0.0   \n",
            "...                             ...                            ...   \n",
            "5961                            0.0                            1.0   \n",
            "5962                            0.0                            0.0   \n",
            "5963                            1.0                            0.0   \n",
            "5964                            0.0                            1.0   \n",
            "5965                            0.0                            1.0   \n",
            "\n",
            "      Outlet_Type_Supermarket Type3  \n",
            "0                               0.0  \n",
            "1                               0.0  \n",
            "2                               0.0  \n",
            "3                               0.0  \n",
            "4                               0.0  \n",
            "...                             ...  \n",
            "5961                            0.0  \n",
            "5962                            0.0  \n",
            "5963                            0.0  \n",
            "5964                            0.0  \n",
            "5965                            0.0  \n",
            "\n",
            "[5966 rows x 29 columns] \n",
            "\n"
          ]
        }
      ]
    },
    {
      "cell_type": "code",
      "source": [
        "X_test=combine_num_df_cat_df(X_test_num,X_test_dum)"
      ],
      "metadata": {
        "colab": {
          "base_uri": "https://localhost:8080/"
        },
        "id": "bhvauk9qizut",
        "outputId": "f6dda467-c2d6-4c69-d464-8fd6ae3b98e1"
      },
      "execution_count": null,
      "outputs": [
        {
          "output_type": "stream",
          "name": "stdout",
          "text": [
            "After combining the shape of df is :\n",
            " (2557, 29) \n",
            "\n",
            "After combining numerical and categorical columns :\n",
            "       Item_Weight  Item_Visibility  Item_MRP  Item_Fat_Content_Low Fat  \\\n",
            "0        0.719462        -1.139185 -1.595003                       0.0   \n",
            "1       -0.049738         0.546100  0.406664                       0.0   \n",
            "2        1.192816        -0.543765  0.802588                       1.0   \n",
            "3       -0.049738        -1.277578  1.438988                       0.0   \n",
            "4       -0.049738         2.015193  0.249528                       0.0   \n",
            "...           ...              ...       ...                       ...   \n",
            "2552    -0.286415        -0.933873  0.602746                       1.0   \n",
            "2553     1.488662        -0.399998 -1.571475                       1.0   \n",
            "2554     1.050810        -0.358343 -0.716055                       0.0   \n",
            "2555     0.234274        -0.152396  1.681577                       1.0   \n",
            "2556     0.198773        -1.030589 -1.362086                       0.0   \n",
            "\n",
            "      Item_Fat_Content_Regular  Item_Fat_Content_low fat  \\\n",
            "0                          1.0                       0.0   \n",
            "1                          1.0                       0.0   \n",
            "2                          0.0                       0.0   \n",
            "3                          1.0                       0.0   \n",
            "4                          1.0                       0.0   \n",
            "...                        ...                       ...   \n",
            "2552                       0.0                       0.0   \n",
            "2553                       0.0                       0.0   \n",
            "2554                       0.0                       0.0   \n",
            "2555                       0.0                       0.0   \n",
            "2556                       0.0                       0.0   \n",
            "\n",
            "      Item_Fat_Content_reg  Item_Type_Breads  Item_Type_Breakfast  \\\n",
            "0                      0.0               0.0                  0.0   \n",
            "1                      0.0               0.0                  0.0   \n",
            "2                      0.0               0.0                  0.0   \n",
            "3                      0.0               0.0                  0.0   \n",
            "4                      0.0               0.0                  0.0   \n",
            "...                    ...               ...                  ...   \n",
            "2552                   0.0               0.0                  0.0   \n",
            "2553                   0.0               0.0                  0.0   \n",
            "2554                   1.0               0.0                  0.0   \n",
            "2555                   0.0               0.0                  0.0   \n",
            "2556                   1.0               0.0                  0.0   \n",
            "\n",
            "      Item_Type_Canned  ...  Item_Type_Snack Foods  Item_Type_Soft Drinks  \\\n",
            "0                  0.0  ...                    1.0                    0.0   \n",
            "1                  0.0  ...                    0.0                    0.0   \n",
            "2                  0.0  ...                    0.0                    1.0   \n",
            "3                  0.0  ...                    0.0                    0.0   \n",
            "4                  0.0  ...                    0.0                    0.0   \n",
            "...                ...  ...                    ...                    ...   \n",
            "2552               1.0  ...                    0.0                    0.0   \n",
            "2553               0.0  ...                    0.0                    0.0   \n",
            "2554               0.0  ...                    1.0                    0.0   \n",
            "2555               0.0  ...                    0.0                    0.0   \n",
            "2556               0.0  ...                    1.0                    0.0   \n",
            "\n",
            "      Item_Type_Starchy Foods  Outlet_Size_Medium  Outlet_Size_Small  \\\n",
            "0                         0.0                 0.0                1.0   \n",
            "1                         0.0                 0.0                1.0   \n",
            "2                         0.0                 1.0                0.0   \n",
            "3                         0.0                 0.0                1.0   \n",
            "4                         0.0                 1.0                0.0   \n",
            "...                       ...                 ...                ...   \n",
            "2552                      0.0                 0.0                1.0   \n",
            "2553                      0.0                 0.0                1.0   \n",
            "2554                      0.0                 1.0                0.0   \n",
            "2555                      0.0                 0.0                1.0   \n",
            "2556                      0.0                 0.0                1.0   \n",
            "\n",
            "      Outlet_Location_Type_Tier 2  Outlet_Location_Type_Tier 3  \\\n",
            "0                             1.0                          0.0   \n",
            "1                             0.0                          0.0   \n",
            "2                             0.0                          0.0   \n",
            "3                             0.0                          0.0   \n",
            "4                             0.0                          1.0   \n",
            "...                           ...                          ...   \n",
            "2552                          0.0                          0.0   \n",
            "2553                          0.0                          0.0   \n",
            "2554                          0.0                          1.0   \n",
            "2555                          1.0                          0.0   \n",
            "2556                          0.0                          0.0   \n",
            "\n",
            "      Outlet_Type_Supermarket Type1  Outlet_Type_Supermarket Type2  \\\n",
            "0                               1.0                            0.0   \n",
            "1                               0.0                            0.0   \n",
            "2                               1.0                            0.0   \n",
            "3                               0.0                            0.0   \n",
            "4                               0.0                            0.0   \n",
            "...                             ...                            ...   \n",
            "2552                            1.0                            0.0   \n",
            "2553                            1.0                            0.0   \n",
            "2554                            0.0                            1.0   \n",
            "2555                            1.0                            0.0   \n",
            "2556                            1.0                            0.0   \n",
            "\n",
            "      Outlet_Type_Supermarket Type3  \n",
            "0                               0.0  \n",
            "1                               0.0  \n",
            "2                               0.0  \n",
            "3                               0.0  \n",
            "4                               1.0  \n",
            "...                             ...  \n",
            "2552                            0.0  \n",
            "2553                            0.0  \n",
            "2554                            0.0  \n",
            "2555                            0.0  \n",
            "2556                            0.0  \n",
            "\n",
            "[2557 rows x 29 columns] \n",
            "\n"
          ]
        }
      ]
    },
    {
      "cell_type": "code",
      "source": [
        "from sklearn import metrics\n",
        "Names = pd.DataFrame(columns=['Model','MAE_Train','MSE_Train','RMSE_Train','MAPE_Train','MAE_Test','MSE_Test','RMSE_Test','MAPE_Test'])\n",
        "def Error_metrics(train_act,train_pred,test_act,test_pred,model_description,dataframe):\n",
        "    MAE_Train = metrics.mean_absolute_error(train_act,train_pred)\n",
        "    MSE_Train = metrics.mean_squared_error(train_act,train_pred)\n",
        "    RMSE_Train = np.sqrt(metrics.mean_squared_error(train_act,train_pred))\n",
        "    MAPE_Train = metrics.mean_absolute_percentage_error(train_act,train_pred)\n",
        "    MAE_Test = metrics.mean_absolute_error(test_act,test_pred)\n",
        "    MSE_Test = metrics.mean_squared_error(test_act,test_pred)\n",
        "    RMSE_Test = np.sqrt(metrics.mean_squared_error(test_act,test_pred))\n",
        "    MAPE_Test = metrics.mean_absolute_percentage_error(test_act,test_pred)\n",
        "\n",
        "    dataframe=dataframe.append(pd.Series([model_description,MAE_Train,MSE_Train,RMSE_Train,MAPE_Train,MAE_Test,MSE_Test,RMSE_Test,MAPE_Test],index=Names.columns ), ignore_index=True)\n",
        "\n",
        "    return(dataframe)"
      ],
      "metadata": {
        "id": "fHc2lOeii2l7"
      },
      "execution_count": null,
      "outputs": []
    },
    {
      "cell_type": "code",
      "source": [
        "from sklearn.decomposition import PCA\n",
        "pca = PCA(n_components=None)\n",
        "pca=pca.fit(X_train)\n",
        "X_train = pca.transform(X_train)\n",
        "X_test = pca.transform(X_test)\n",
        "explained_variance = pca.explained_variance_ratio_\n",
        "print(explained_variance)"
      ],
      "metadata": {
        "colab": {
          "base_uri": "https://localhost:8080/"
        },
        "id": "cCxLkBpWjOYR",
        "outputId": "fab10cec-9c95-441a-ff33-32f3d12d9847"
      },
      "execution_count": null,
      "outputs": [
        {
          "output_type": "stream",
          "name": "stdout",
          "text": [
            "[0.18230848 0.1778324  0.1744861  0.10742584 0.07924813 0.05942648\n",
            " 0.02509388 0.02347348 0.02146728 0.01900298 0.01716893 0.01617298\n",
            " 0.01589273 0.01367296 0.01136937 0.0099816  0.00880717 0.00619053\n",
            " 0.00601903 0.00466425 0.00451672 0.00398714 0.00305539 0.00241569\n",
            " 0.0021728  0.00127546 0.00109399 0.00105976 0.00071847]\n"
          ]
        }
      ]
    },
    {
      "cell_type": "code",
      "source": [
        "import pickle\n",
        "with open('pca_pickle.pkl', 'wb') as file:\n",
        "  pickle.dump(pca, file)"
      ],
      "metadata": {
        "id": "J3jGB8SelnPc"
      },
      "execution_count": null,
      "outputs": []
    },
    {
      "cell_type": "code",
      "source": [
        "def Linear_reg(X_train,Y_train,X_test,Y_test):\n",
        "  lin=LinearRegression()\n",
        "  lin=lin.fit(X_train,Y_train)\n",
        "  Y_train_pred=lin.predict(X_train)                           # predict is used to predict the values of target column for training and testing Datasets\n",
        "  Y_test_pred=lin.predict(X_test)\n",
        "  print(\"The First 10 train predictions are:\\n\",Y_train_pred[0:10],'\\n')\n",
        "  print(\"**\"*50)\n",
        "  print(\"The First 10 test predictions are:\\n\",Y_test_pred[0:10],'\\n')\n",
        "  return Y_train_pred,Y_test_pred,lin"
      ],
      "metadata": {
        "id": "GVay0LjXjnXY"
      },
      "execution_count": null,
      "outputs": []
    },
    {
      "cell_type": "code",
      "source": [
        "Y_train_pred,Y_test_pred,lin=Linear_reg(X_train,Y_train,X_test,Y_test)"
      ],
      "metadata": {
        "colab": {
          "base_uri": "https://localhost:8080/"
        },
        "id": "MXjQVmD7juhg",
        "outputId": "fa01aa1d-cddd-4c5d-d2f4-9ca4c8b8f566"
      },
      "execution_count": null,
      "outputs": [
        {
          "output_type": "stream",
          "name": "stdout",
          "text": [
            "The First 10 train predictions are:\n",
            " [2243.75607501 -117.93735376 2544.72500569  102.26036198 2117.04327077\n",
            " 3308.12686284 4481.17920618 4408.60318923 -504.5684083   778.8141895 ] \n",
            "\n",
            "****************************************************************************************************\n",
            "The First 10 test predictions are:\n",
            " [ 876.97349787  840.81164362 3029.37966335 1776.90568083 3892.96156431\n",
            "  618.62495711 2899.04387218 2819.55583618 1028.2030988  2388.33236075] \n",
            "\n"
          ]
        }
      ]
    },
    {
      "cell_type": "code",
      "source": [
        "import pickle\n",
        "with open('lin_pickle.pkl', 'wb') as file:\n",
        "  pickle.dump(lin, file)"
      ],
      "metadata": {
        "id": "1mtwY-UHV8Kd"
      },
      "execution_count": null,
      "outputs": []
    },
    {
      "cell_type": "code",
      "source": [
        "scores=Error_metrics(Y_train,Y_train_pred,Y_test,Y_test_pred,'linear Regression',Names)\n",
        "scores"
      ],
      "metadata": {
        "colab": {
          "base_uri": "https://localhost:8080/",
          "height": 137
        },
        "id": "oHyvPuIyj2Lv",
        "outputId": "7943ccdf-a461-4dac-cdf2-56061855173b"
      },
      "execution_count": null,
      "outputs": [
        {
          "output_type": "stream",
          "name": "stderr",
          "text": [
            "<ipython-input-31-13af5d2b1de9>:13: FutureWarning: The frame.append method is deprecated and will be removed from pandas in a future version. Use pandas.concat instead.\n",
            "  dataframe=dataframe.append(pd.Series([model_description,MAE_Train,MSE_Train,RMSE_Train,MAPE_Train,MAE_Test,MSE_Test,RMSE_Test,MAPE_Test],index=Names.columns ), ignore_index=True)\n"
          ]
        },
        {
          "output_type": "execute_result",
          "data": {
            "text/plain": [
              "               Model   MAE_Train     MSE_Train   RMSE_Train  MAPE_Train  \\\n",
              "0  linear Regression  831.790275  1.263472e+06  1124.042693    1.032504   \n",
              "\n",
              "    MAE_Test      MSE_Test    RMSE_Test  MAPE_Test  \n",
              "0  847.68088  1.300565e+06  1140.423198   1.025071  "
            ],
            "text/html": [
              "\n",
              "  <div id=\"df-50c324e4-d5d8-456c-bf03-513876e81e4e\">\n",
              "    <div class=\"colab-df-container\">\n",
              "      <div>\n",
              "<style scoped>\n",
              "    .dataframe tbody tr th:only-of-type {\n",
              "        vertical-align: middle;\n",
              "    }\n",
              "\n",
              "    .dataframe tbody tr th {\n",
              "        vertical-align: top;\n",
              "    }\n",
              "\n",
              "    .dataframe thead th {\n",
              "        text-align: right;\n",
              "    }\n",
              "</style>\n",
              "<table border=\"1\" class=\"dataframe\">\n",
              "  <thead>\n",
              "    <tr style=\"text-align: right;\">\n",
              "      <th></th>\n",
              "      <th>Model</th>\n",
              "      <th>MAE_Train</th>\n",
              "      <th>MSE_Train</th>\n",
              "      <th>RMSE_Train</th>\n",
              "      <th>MAPE_Train</th>\n",
              "      <th>MAE_Test</th>\n",
              "      <th>MSE_Test</th>\n",
              "      <th>RMSE_Test</th>\n",
              "      <th>MAPE_Test</th>\n",
              "    </tr>\n",
              "  </thead>\n",
              "  <tbody>\n",
              "    <tr>\n",
              "      <th>0</th>\n",
              "      <td>linear Regression</td>\n",
              "      <td>831.790275</td>\n",
              "      <td>1.263472e+06</td>\n",
              "      <td>1124.042693</td>\n",
              "      <td>1.032504</td>\n",
              "      <td>847.68088</td>\n",
              "      <td>1.300565e+06</td>\n",
              "      <td>1140.423198</td>\n",
              "      <td>1.025071</td>\n",
              "    </tr>\n",
              "  </tbody>\n",
              "</table>\n",
              "</div>\n",
              "      <button class=\"colab-df-convert\" onclick=\"convertToInteractive('df-50c324e4-d5d8-456c-bf03-513876e81e4e')\"\n",
              "              title=\"Convert this dataframe to an interactive table.\"\n",
              "              style=\"display:none;\">\n",
              "        \n",
              "  <svg xmlns=\"http://www.w3.org/2000/svg\" height=\"24px\"viewBox=\"0 0 24 24\"\n",
              "       width=\"24px\">\n",
              "    <path d=\"M0 0h24v24H0V0z\" fill=\"none\"/>\n",
              "    <path d=\"M18.56 5.44l.94 2.06.94-2.06 2.06-.94-2.06-.94-.94-2.06-.94 2.06-2.06.94zm-11 1L8.5 8.5l.94-2.06 2.06-.94-2.06-.94L8.5 2.5l-.94 2.06-2.06.94zm10 10l.94 2.06.94-2.06 2.06-.94-2.06-.94-.94-2.06-.94 2.06-2.06.94z\"/><path d=\"M17.41 7.96l-1.37-1.37c-.4-.4-.92-.59-1.43-.59-.52 0-1.04.2-1.43.59L10.3 9.45l-7.72 7.72c-.78.78-.78 2.05 0 2.83L4 21.41c.39.39.9.59 1.41.59.51 0 1.02-.2 1.41-.59l7.78-7.78 2.81-2.81c.8-.78.8-2.07 0-2.86zM5.41 20L4 18.59l7.72-7.72 1.47 1.35L5.41 20z\"/>\n",
              "  </svg>\n",
              "      </button>\n",
              "      \n",
              "  <style>\n",
              "    .colab-df-container {\n",
              "      display:flex;\n",
              "      flex-wrap:wrap;\n",
              "      gap: 12px;\n",
              "    }\n",
              "\n",
              "    .colab-df-convert {\n",
              "      background-color: #E8F0FE;\n",
              "      border: none;\n",
              "      border-radius: 50%;\n",
              "      cursor: pointer;\n",
              "      display: none;\n",
              "      fill: #1967D2;\n",
              "      height: 32px;\n",
              "      padding: 0 0 0 0;\n",
              "      width: 32px;\n",
              "    }\n",
              "\n",
              "    .colab-df-convert:hover {\n",
              "      background-color: #E2EBFA;\n",
              "      box-shadow: 0px 1px 2px rgba(60, 64, 67, 0.3), 0px 1px 3px 1px rgba(60, 64, 67, 0.15);\n",
              "      fill: #174EA6;\n",
              "    }\n",
              "\n",
              "    [theme=dark] .colab-df-convert {\n",
              "      background-color: #3B4455;\n",
              "      fill: #D2E3FC;\n",
              "    }\n",
              "\n",
              "    [theme=dark] .colab-df-convert:hover {\n",
              "      background-color: #434B5C;\n",
              "      box-shadow: 0px 1px 3px 1px rgba(0, 0, 0, 0.15);\n",
              "      filter: drop-shadow(0px 1px 2px rgba(0, 0, 0, 0.3));\n",
              "      fill: #FFFFFF;\n",
              "    }\n",
              "  </style>\n",
              "\n",
              "      <script>\n",
              "        const buttonEl =\n",
              "          document.querySelector('#df-50c324e4-d5d8-456c-bf03-513876e81e4e button.colab-df-convert');\n",
              "        buttonEl.style.display =\n",
              "          google.colab.kernel.accessAllowed ? 'block' : 'none';\n",
              "\n",
              "        async function convertToInteractive(key) {\n",
              "          const element = document.querySelector('#df-50c324e4-d5d8-456c-bf03-513876e81e4e');\n",
              "          const dataTable =\n",
              "            await google.colab.kernel.invokeFunction('convertToInteractive',\n",
              "                                                     [key], {});\n",
              "          if (!dataTable) return;\n",
              "\n",
              "          const docLinkHtml = 'Like what you see? Visit the ' +\n",
              "            '<a target=\"_blank\" href=https://colab.research.google.com/notebooks/data_table.ipynb>data table notebook</a>'\n",
              "            + ' to learn more about interactive tables.';\n",
              "          element.innerHTML = '';\n",
              "          dataTable['output_type'] = 'display_data';\n",
              "          await google.colab.output.renderOutput(dataTable, element);\n",
              "          const docLink = document.createElement('div');\n",
              "          docLink.innerHTML = docLinkHtml;\n",
              "          element.appendChild(docLink);\n",
              "        }\n",
              "      </script>\n",
              "    </div>\n",
              "  </div>\n",
              "  "
            ]
          },
          "metadata": {},
          "execution_count": 37
        }
      ]
    },
    {
      "cell_type": "code",
      "source": [
        "def RanFor(X_train,Y_train,X_test,Y_test):\n",
        "  rfc=RandomForestRegressor(n_estimators=100)     #random_state– controls randomness of the sample\n",
        "  #max_features– maximum number of features random forest considers splitting a node\n",
        "  #n_estimators– number of trees the algorithm builds before averaging the predictions\n",
        "  #min_samples_split : random foresst works by taking some random samples of records and some features\n",
        "  rfc_model=rfc.fit(X_train, Y_train)\n",
        "  Y_train_pred = rfc_model.predict(X_train)\n",
        "  Y_test_pred = rfc_model.predict(X_test)\n",
        "  print(\"The First 10 train predictions are:\\n\",Y_train_pred[0:10],'\\n')\n",
        "  print(\"**\"*50)\n",
        "  print(\"The First 10 test predictions are:\\n\",Y_test_pred[0:10],'\\n')\n",
        "  return Y_train_pred,Y_test_pred,rfc_model"
      ],
      "metadata": {
        "id": "XiXv6R_rkOlC"
      },
      "execution_count": null,
      "outputs": []
    },
    {
      "cell_type": "code",
      "source": [
        "Y_train_pred_rfc,Y_test_pred_rfc,rfc_model=RanFor(X_train,Y_train,X_test,Y_test)"
      ],
      "metadata": {
        "colab": {
          "base_uri": "https://localhost:8080/"
        },
        "id": "hy0tL_s-koDS",
        "outputId": "b771efae-0329-494e-acb2-bfbe27c016a2"
      },
      "execution_count": null,
      "outputs": [
        {
          "output_type": "stream",
          "name": "stdout",
          "text": [
            "The First 10 train predictions are:\n",
            " [3226.626592  517.865898 1822.09486   262.518282 1737.864502 2608.364712\n",
            " 4828.78108  6515.971544  190.21906   637.410288] \n",
            "\n",
            "****************************************************************************************************\n",
            "The First 10 test predictions are:\n",
            " [ 727.546292  347.287938 2791.606188  509.763112 3837.744438  627.802794\n",
            " 2148.33686  2257.148554  994.452196 2393.131546] \n",
            "\n"
          ]
        }
      ]
    },
    {
      "cell_type": "code",
      "source": [
        "scores=Error_metrics(Y_train,Y_train_pred_rfc,Y_test,Y_test_pred_rfc,'Random Forest',Names)"
      ],
      "metadata": {
        "colab": {
          "base_uri": "https://localhost:8080/"
        },
        "id": "IXM0vq0pkzp-",
        "outputId": "5108994e-96b5-401b-c8a6-7a60156c93c9"
      },
      "execution_count": null,
      "outputs": [
        {
          "output_type": "stream",
          "name": "stderr",
          "text": [
            "<ipython-input-31-13af5d2b1de9>:13: FutureWarning: The frame.append method is deprecated and will be removed from pandas in a future version. Use pandas.concat instead.\n",
            "  dataframe=dataframe.append(pd.Series([model_description,MAE_Train,MSE_Train,RMSE_Train,MAPE_Train,MAE_Test,MSE_Test,RMSE_Test,MAPE_Test],index=Names.columns ), ignore_index=True)\n"
          ]
        }
      ]
    },
    {
      "cell_type": "code",
      "source": [
        "scores"
      ],
      "metadata": {
        "colab": {
          "base_uri": "https://localhost:8080/",
          "height": 81
        },
        "id": "l4N1kprhk-l_",
        "outputId": "3e76d668-8785-4c33-de00-e462f08bd990"
      },
      "execution_count": null,
      "outputs": [
        {
          "output_type": "execute_result",
          "data": {
            "text/plain": [
              "           Model  MAE_Train      MSE_Train  RMSE_Train  MAPE_Train  \\\n",
              "0  Random Forest  301.35164  184313.373558  429.317334    0.231629   \n",
              "\n",
              "     MAE_Test      MSE_Test    RMSE_Test  MAPE_Test  \n",
              "0  815.046121  1.332375e+06  1154.285583   0.613498  "
            ],
            "text/html": [
              "\n",
              "  <div id=\"df-62d63ffd-4ed4-404a-8282-3091f3e67d79\">\n",
              "    <div class=\"colab-df-container\">\n",
              "      <div>\n",
              "<style scoped>\n",
              "    .dataframe tbody tr th:only-of-type {\n",
              "        vertical-align: middle;\n",
              "    }\n",
              "\n",
              "    .dataframe tbody tr th {\n",
              "        vertical-align: top;\n",
              "    }\n",
              "\n",
              "    .dataframe thead th {\n",
              "        text-align: right;\n",
              "    }\n",
              "</style>\n",
              "<table border=\"1\" class=\"dataframe\">\n",
              "  <thead>\n",
              "    <tr style=\"text-align: right;\">\n",
              "      <th></th>\n",
              "      <th>Model</th>\n",
              "      <th>MAE_Train</th>\n",
              "      <th>MSE_Train</th>\n",
              "      <th>RMSE_Train</th>\n",
              "      <th>MAPE_Train</th>\n",
              "      <th>MAE_Test</th>\n",
              "      <th>MSE_Test</th>\n",
              "      <th>RMSE_Test</th>\n",
              "      <th>MAPE_Test</th>\n",
              "    </tr>\n",
              "  </thead>\n",
              "  <tbody>\n",
              "    <tr>\n",
              "      <th>0</th>\n",
              "      <td>Random Forest</td>\n",
              "      <td>301.35164</td>\n",
              "      <td>184313.373558</td>\n",
              "      <td>429.317334</td>\n",
              "      <td>0.231629</td>\n",
              "      <td>815.046121</td>\n",
              "      <td>1.332375e+06</td>\n",
              "      <td>1154.285583</td>\n",
              "      <td>0.613498</td>\n",
              "    </tr>\n",
              "  </tbody>\n",
              "</table>\n",
              "</div>\n",
              "      <button class=\"colab-df-convert\" onclick=\"convertToInteractive('df-62d63ffd-4ed4-404a-8282-3091f3e67d79')\"\n",
              "              title=\"Convert this dataframe to an interactive table.\"\n",
              "              style=\"display:none;\">\n",
              "        \n",
              "  <svg xmlns=\"http://www.w3.org/2000/svg\" height=\"24px\"viewBox=\"0 0 24 24\"\n",
              "       width=\"24px\">\n",
              "    <path d=\"M0 0h24v24H0V0z\" fill=\"none\"/>\n",
              "    <path d=\"M18.56 5.44l.94 2.06.94-2.06 2.06-.94-2.06-.94-.94-2.06-.94 2.06-2.06.94zm-11 1L8.5 8.5l.94-2.06 2.06-.94-2.06-.94L8.5 2.5l-.94 2.06-2.06.94zm10 10l.94 2.06.94-2.06 2.06-.94-2.06-.94-.94-2.06-.94 2.06-2.06.94z\"/><path d=\"M17.41 7.96l-1.37-1.37c-.4-.4-.92-.59-1.43-.59-.52 0-1.04.2-1.43.59L10.3 9.45l-7.72 7.72c-.78.78-.78 2.05 0 2.83L4 21.41c.39.39.9.59 1.41.59.51 0 1.02-.2 1.41-.59l7.78-7.78 2.81-2.81c.8-.78.8-2.07 0-2.86zM5.41 20L4 18.59l7.72-7.72 1.47 1.35L5.41 20z\"/>\n",
              "  </svg>\n",
              "      </button>\n",
              "      \n",
              "  <style>\n",
              "    .colab-df-container {\n",
              "      display:flex;\n",
              "      flex-wrap:wrap;\n",
              "      gap: 12px;\n",
              "    }\n",
              "\n",
              "    .colab-df-convert {\n",
              "      background-color: #E8F0FE;\n",
              "      border: none;\n",
              "      border-radius: 50%;\n",
              "      cursor: pointer;\n",
              "      display: none;\n",
              "      fill: #1967D2;\n",
              "      height: 32px;\n",
              "      padding: 0 0 0 0;\n",
              "      width: 32px;\n",
              "    }\n",
              "\n",
              "    .colab-df-convert:hover {\n",
              "      background-color: #E2EBFA;\n",
              "      box-shadow: 0px 1px 2px rgba(60, 64, 67, 0.3), 0px 1px 3px 1px rgba(60, 64, 67, 0.15);\n",
              "      fill: #174EA6;\n",
              "    }\n",
              "\n",
              "    [theme=dark] .colab-df-convert {\n",
              "      background-color: #3B4455;\n",
              "      fill: #D2E3FC;\n",
              "    }\n",
              "\n",
              "    [theme=dark] .colab-df-convert:hover {\n",
              "      background-color: #434B5C;\n",
              "      box-shadow: 0px 1px 3px 1px rgba(0, 0, 0, 0.15);\n",
              "      filter: drop-shadow(0px 1px 2px rgba(0, 0, 0, 0.3));\n",
              "      fill: #FFFFFF;\n",
              "    }\n",
              "  </style>\n",
              "\n",
              "      <script>\n",
              "        const buttonEl =\n",
              "          document.querySelector('#df-62d63ffd-4ed4-404a-8282-3091f3e67d79 button.colab-df-convert');\n",
              "        buttonEl.style.display =\n",
              "          google.colab.kernel.accessAllowed ? 'block' : 'none';\n",
              "\n",
              "        async function convertToInteractive(key) {\n",
              "          const element = document.querySelector('#df-62d63ffd-4ed4-404a-8282-3091f3e67d79');\n",
              "          const dataTable =\n",
              "            await google.colab.kernel.invokeFunction('convertToInteractive',\n",
              "                                                     [key], {});\n",
              "          if (!dataTable) return;\n",
              "\n",
              "          const docLinkHtml = 'Like what you see? Visit the ' +\n",
              "            '<a target=\"_blank\" href=https://colab.research.google.com/notebooks/data_table.ipynb>data table notebook</a>'\n",
              "            + ' to learn more about interactive tables.';\n",
              "          element.innerHTML = '';\n",
              "          dataTable['output_type'] = 'display_data';\n",
              "          await google.colab.output.renderOutput(dataTable, element);\n",
              "          const docLink = document.createElement('div');\n",
              "          docLink.innerHTML = docLinkHtml;\n",
              "          element.appendChild(docLink);\n",
              "        }\n",
              "      </script>\n",
              "    </div>\n",
              "  </div>\n",
              "  "
            ]
          },
          "metadata": {},
          "execution_count": 41
        }
      ]
    },
    {
      "cell_type": "code",
      "source": [
        "import pickle\n",
        "with open('rfc_pickle.pkl', 'wb') as file:\n",
        "  pickle.dump(rfc_model, file)"
      ],
      "metadata": {
        "id": "0bRBrrgTk_0u"
      },
      "execution_count": null,
      "outputs": []
    },
    {
      "cell_type": "code",
      "source": [],
      "metadata": {
        "id": "shKWcDwflhjg"
      },
      "execution_count": null,
      "outputs": []
    }
  ]
}